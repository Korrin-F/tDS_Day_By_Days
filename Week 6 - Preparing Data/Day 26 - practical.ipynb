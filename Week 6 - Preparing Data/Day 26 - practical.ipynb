{
 "cells": [
  {
   "cell_type": "code",
   "execution_count": 89,
   "metadata": {},
   "outputs": [],
   "source": [
    "import numpy as np\n",
    "import pandas as pd\n",
    "import matplotlib.pyplot as plt"
   ]
  },
  {
   "cell_type": "code",
   "execution_count": 90,
   "metadata": {},
   "outputs": [],
   "source": [
    "# bring in the csv file called practical_edit.csv\n",
    "df = pd.read_csv('practical_edit.csv')"
   ]
  },
  {
   "cell_type": "code",
   "execution_count": 91,
   "metadata": {},
   "outputs": [
    {
     "ename": "KeyError",
     "evalue": "'total_sales & online_sales'",
     "output_type": "error",
     "traceback": [
      "\u001b[0;31m---------------------------------------------------------------------------\u001b[0m",
      "\u001b[0;31mKeyError\u001b[0m                                  Traceback (most recent call last)",
      "File \u001b[0;32m/Library/Frameworks/Python.framework/Versions/3.10/lib/python3.10/site-packages/pandas/core/indexes/base.py:3800\u001b[0m, in \u001b[0;36mIndex.get_loc\u001b[0;34m(self, key, method, tolerance)\u001b[0m\n\u001b[1;32m   3799\u001b[0m \u001b[39mtry\u001b[39;00m:\n\u001b[0;32m-> 3800\u001b[0m     \u001b[39mreturn\u001b[39;00m \u001b[39mself\u001b[39;49m\u001b[39m.\u001b[39;49m_engine\u001b[39m.\u001b[39;49mget_loc(casted_key)\n\u001b[1;32m   3801\u001b[0m \u001b[39mexcept\u001b[39;00m \u001b[39mKeyError\u001b[39;00m \u001b[39mas\u001b[39;00m err:\n",
      "File \u001b[0;32m/Library/Frameworks/Python.framework/Versions/3.10/lib/python3.10/site-packages/pandas/_libs/index.pyx:138\u001b[0m, in \u001b[0;36mpandas._libs.index.IndexEngine.get_loc\u001b[0;34m()\u001b[0m\n",
      "File \u001b[0;32m/Library/Frameworks/Python.framework/Versions/3.10/lib/python3.10/site-packages/pandas/_libs/index.pyx:165\u001b[0m, in \u001b[0;36mpandas._libs.index.IndexEngine.get_loc\u001b[0;34m()\u001b[0m\n",
      "File \u001b[0;32mpandas/_libs/hashtable_class_helper.pxi:5745\u001b[0m, in \u001b[0;36mpandas._libs.hashtable.PyObjectHashTable.get_item\u001b[0;34m()\u001b[0m\n",
      "File \u001b[0;32mpandas/_libs/hashtable_class_helper.pxi:5753\u001b[0m, in \u001b[0;36mpandas._libs.hashtable.PyObjectHashTable.get_item\u001b[0;34m()\u001b[0m\n",
      "\u001b[0;31mKeyError\u001b[0m: 'total_sales & online_sales'",
      "\nThe above exception was the direct cause of the following exception:\n",
      "\u001b[0;31mKeyError\u001b[0m                                  Traceback (most recent call last)",
      "Cell \u001b[0;32mIn [91], line 2\u001b[0m\n\u001b[1;32m      1\u001b[0m \u001b[39m#separte the data in column 3 into two columns\u001b[39;00m\n\u001b[0;32m----> 2\u001b[0m df[[\u001b[39m'\u001b[39m\u001b[39mtotal_sales?\u001b[39m\u001b[39m'\u001b[39m, \u001b[39m'\u001b[39m\u001b[39monline_sales?\u001b[39m\u001b[39m'\u001b[39m]] \u001b[39m=\u001b[39m df[\u001b[39m'\u001b[39m\u001b[39mtotal_sales & online_sales\u001b[39m\u001b[39m'\u001b[39m]\u001b[39m.\u001b[39mstr\u001b[39m.\u001b[39msplit(\u001b[39m'\u001b[39m\u001b[39m \u001b[39m\u001b[39m'\u001b[39m, expand\u001b[39m=\u001b[39m\u001b[39mTrue\u001b[39;00m)\n\u001b[1;32m      3\u001b[0m df\u001b[39m.\u001b[39mhead()\n",
      "File \u001b[0;32m/Library/Frameworks/Python.framework/Versions/3.10/lib/python3.10/site-packages/pandas/core/frame.py:3805\u001b[0m, in \u001b[0;36mDataFrame.__getitem__\u001b[0;34m(self, key)\u001b[0m\n\u001b[1;32m   3803\u001b[0m \u001b[39mif\u001b[39;00m \u001b[39mself\u001b[39m\u001b[39m.\u001b[39mcolumns\u001b[39m.\u001b[39mnlevels \u001b[39m>\u001b[39m \u001b[39m1\u001b[39m:\n\u001b[1;32m   3804\u001b[0m     \u001b[39mreturn\u001b[39;00m \u001b[39mself\u001b[39m\u001b[39m.\u001b[39m_getitem_multilevel(key)\n\u001b[0;32m-> 3805\u001b[0m indexer \u001b[39m=\u001b[39m \u001b[39mself\u001b[39;49m\u001b[39m.\u001b[39;49mcolumns\u001b[39m.\u001b[39;49mget_loc(key)\n\u001b[1;32m   3806\u001b[0m \u001b[39mif\u001b[39;00m is_integer(indexer):\n\u001b[1;32m   3807\u001b[0m     indexer \u001b[39m=\u001b[39m [indexer]\n",
      "File \u001b[0;32m/Library/Frameworks/Python.framework/Versions/3.10/lib/python3.10/site-packages/pandas/core/indexes/base.py:3802\u001b[0m, in \u001b[0;36mIndex.get_loc\u001b[0;34m(self, key, method, tolerance)\u001b[0m\n\u001b[1;32m   3800\u001b[0m     \u001b[39mreturn\u001b[39;00m \u001b[39mself\u001b[39m\u001b[39m.\u001b[39m_engine\u001b[39m.\u001b[39mget_loc(casted_key)\n\u001b[1;32m   3801\u001b[0m \u001b[39mexcept\u001b[39;00m \u001b[39mKeyError\u001b[39;00m \u001b[39mas\u001b[39;00m err:\n\u001b[0;32m-> 3802\u001b[0m     \u001b[39mraise\u001b[39;00m \u001b[39mKeyError\u001b[39;00m(key) \u001b[39mfrom\u001b[39;00m \u001b[39merr\u001b[39;00m\n\u001b[1;32m   3803\u001b[0m \u001b[39mexcept\u001b[39;00m \u001b[39mTypeError\u001b[39;00m:\n\u001b[1;32m   3804\u001b[0m     \u001b[39m# If we have a listlike key, _check_indexing_error will raise\u001b[39;00m\n\u001b[1;32m   3805\u001b[0m     \u001b[39m#  InvalidIndexError. Otherwise we fall through and re-raise\u001b[39;00m\n\u001b[1;32m   3806\u001b[0m     \u001b[39m#  the TypeError.\u001b[39;00m\n\u001b[1;32m   3807\u001b[0m     \u001b[39mself\u001b[39m\u001b[39m.\u001b[39m_check_indexing_error(key)\n",
      "\u001b[0;31mKeyError\u001b[0m: 'total_sales & online_sales'"
     ]
    }
   ],
   "source": [
    "#separte the data in column 3 into two columns\n",
    "df[['total_sales?', 'online_sales?']] = df['total_sales & online_sales'].str.split(' ', expand=True)\n",
    "df.head()"
   ]
  },
  {
   "cell_type": "code",
   "execution_count": null,
   "metadata": {},
   "outputs": [
    {
     "name": "stderr",
     "output_type": "stream",
     "text": [
      "/var/folders/x7/4frtg_jx34g69lycmb25nq5m0000gn/T/ipykernel_2319/1361992914.py:2: FutureWarning: The default value of regex will change from True to False in a future version. In addition, single character regular expressions will *not* be treated as literal strings when regex=True.\n",
      "  df['online_sales?'] = df['online_sales?'].str.replace('(', '')\n",
      "/var/folders/x7/4frtg_jx34g69lycmb25nq5m0000gn/T/ipykernel_2319/1361992914.py:3: FutureWarning: The default value of regex will change from True to False in a future version. In addition, single character regular expressions will *not* be treated as literal strings when regex=True.\n",
      "  df['online_sales?'] = df['online_sales?'].str.replace(')', '')\n"
     ]
    },
    {
     "data": {
      "text/html": [
       "<div>\n",
       "<style scoped>\n",
       "    .dataframe tbody tr th:only-of-type {\n",
       "        vertical-align: middle;\n",
       "    }\n",
       "\n",
       "    .dataframe tbody tr th {\n",
       "        vertical-align: top;\n",
       "    }\n",
       "\n",
       "    .dataframe thead th {\n",
       "        text-align: right;\n",
       "    }\n",
       "</style>\n",
       "<table border=\"1\" class=\"dataframe\">\n",
       "  <thead>\n",
       "    <tr style=\"text-align: right;\">\n",
       "      <th></th>\n",
       "      <th>food_name</th>\n",
       "      <th>date_added</th>\n",
       "      <th>date_modified</th>\n",
       "      <th>total_sales &amp; online_sales</th>\n",
       "      <th>approved</th>\n",
       "      <th>heading row</th>\n",
       "      <th>total_sales?</th>\n",
       "      <th>online_sales?</th>\n",
       "    </tr>\n",
       "  </thead>\n",
       "  <tbody>\n",
       "    <tr>\n",
       "      <th>0</th>\n",
       "      <td>dill</td>\n",
       "      <td>02/01/1900</td>\n",
       "      <td>16/04/2017</td>\n",
       "      <td>1482 (139)</td>\n",
       "      <td>1.0</td>\n",
       "      <td>NaN</td>\n",
       "      <td>1482</td>\n",
       "      <td>139</td>\n",
       "    </tr>\n",
       "    <tr>\n",
       "      <th>1</th>\n",
       "      <td>doughnut</td>\n",
       "      <td>02/01/2018</td>\n",
       "      <td>16/02/2018</td>\n",
       "      <td>4828 (895)</td>\n",
       "      <td>1.0</td>\n",
       "      <td>NaN</td>\n",
       "      <td>4828</td>\n",
       "      <td>895</td>\n",
       "    </tr>\n",
       "    <tr>\n",
       "      <th>2</th>\n",
       "      <td>yolk</td>\n",
       "      <td>02/01/2018</td>\n",
       "      <td>02/09/2019</td>\n",
       "      <td>1890 (226)</td>\n",
       "      <td>1.0</td>\n",
       "      <td>NaN</td>\n",
       "      <td>1890</td>\n",
       "      <td>226</td>\n",
       "    </tr>\n",
       "    <tr>\n",
       "      <th>3</th>\n",
       "      <td>mutton</td>\n",
       "      <td>04/01/2018</td>\n",
       "      <td>11/11/2019</td>\n",
       "      <td>2850 (1861)</td>\n",
       "      <td>1.0</td>\n",
       "      <td>NaN</td>\n",
       "      <td>2850</td>\n",
       "      <td>1861</td>\n",
       "    </tr>\n",
       "    <tr>\n",
       "      <th>4</th>\n",
       "      <td>tuna</td>\n",
       "      <td>08/01/2018</td>\n",
       "      <td>04/11/2019</td>\n",
       "      <td>907 (4221)</td>\n",
       "      <td>1.0</td>\n",
       "      <td>NaN</td>\n",
       "      <td>907</td>\n",
       "      <td>4221</td>\n",
       "    </tr>\n",
       "  </tbody>\n",
       "</table>\n",
       "</div>"
      ],
      "text/plain": [
       "  food_name  date_added date_modified total_sales & online_sales  approved  \\\n",
       "0      dill  02/01/1900    16/04/2017                 1482 (139)       1.0   \n",
       "1  doughnut  02/01/2018    16/02/2018                 4828 (895)       1.0   \n",
       "2      yolk  02/01/2018    02/09/2019                 1890 (226)       1.0   \n",
       "3    mutton  04/01/2018    11/11/2019                2850 (1861)       1.0   \n",
       "4      tuna  08/01/2018    04/11/2019                 907 (4221)       1.0   \n",
       "\n",
       "  heading row total_sales? online_sales?  \n",
       "0         NaN         1482           139  \n",
       "1         NaN         4828           895  \n",
       "2         NaN         1890           226  \n",
       "3         NaN         2850          1861  \n",
       "4         NaN          907          4221  "
      ]
     },
     "execution_count": 51,
     "metadata": {},
     "output_type": "execute_result"
    }
   ],
   "source": [
    "# remove the '(' and ')' from the data in the online_sales? column\n",
    "df['online_sales?'] = df['online_sales?'].str.replace('(', '')\n",
    "df['online_sales?'] = df['online_sales?'].str.replace(')', '')\n",
    "df.head()"
   ]
  },
  {
   "cell_type": "code",
   "execution_count": null,
   "metadata": {},
   "outputs": [],
   "source": [
    "# remove column 3\n",
    "df = df.drop('total_sales & online_sales', axis=1)\n"
   ]
  },
  {
   "cell_type": "code",
   "execution_count": null,
   "metadata": {},
   "outputs": [
    {
     "data": {
      "text/html": [
       "<div>\n",
       "<style scoped>\n",
       "    .dataframe tbody tr th:only-of-type {\n",
       "        vertical-align: middle;\n",
       "    }\n",
       "\n",
       "    .dataframe tbody tr th {\n",
       "        vertical-align: top;\n",
       "    }\n",
       "\n",
       "    .dataframe thead th {\n",
       "        text-align: right;\n",
       "    }\n",
       "</style>\n",
       "<table border=\"1\" class=\"dataframe\">\n",
       "  <thead>\n",
       "    <tr style=\"text-align: right;\">\n",
       "      <th></th>\n",
       "      <th>food_name</th>\n",
       "      <th>date_added</th>\n",
       "      <th>date_modified</th>\n",
       "      <th>online_sales?</th>\n",
       "      <th>total_sales?</th>\n",
       "      <th>approved</th>\n",
       "      <th>heading row</th>\n",
       "    </tr>\n",
       "  </thead>\n",
       "  <tbody>\n",
       "    <tr>\n",
       "      <th>0</th>\n",
       "      <td>dill</td>\n",
       "      <td>02/01/1900</td>\n",
       "      <td>16/04/2017</td>\n",
       "      <td>139</td>\n",
       "      <td>1482</td>\n",
       "      <td>1.0</td>\n",
       "      <td>NaN</td>\n",
       "    </tr>\n",
       "    <tr>\n",
       "      <th>1</th>\n",
       "      <td>doughnut</td>\n",
       "      <td>02/01/2018</td>\n",
       "      <td>16/02/2018</td>\n",
       "      <td>895</td>\n",
       "      <td>4828</td>\n",
       "      <td>1.0</td>\n",
       "      <td>NaN</td>\n",
       "    </tr>\n",
       "    <tr>\n",
       "      <th>2</th>\n",
       "      <td>yolk</td>\n",
       "      <td>02/01/2018</td>\n",
       "      <td>02/09/2019</td>\n",
       "      <td>226</td>\n",
       "      <td>1890</td>\n",
       "      <td>1.0</td>\n",
       "      <td>NaN</td>\n",
       "    </tr>\n",
       "    <tr>\n",
       "      <th>3</th>\n",
       "      <td>mutton</td>\n",
       "      <td>04/01/2018</td>\n",
       "      <td>11/11/2019</td>\n",
       "      <td>1861</td>\n",
       "      <td>2850</td>\n",
       "      <td>1.0</td>\n",
       "      <td>NaN</td>\n",
       "    </tr>\n",
       "    <tr>\n",
       "      <th>4</th>\n",
       "      <td>tuna</td>\n",
       "      <td>08/01/2018</td>\n",
       "      <td>04/11/2019</td>\n",
       "      <td>4221</td>\n",
       "      <td>907</td>\n",
       "      <td>1.0</td>\n",
       "      <td>NaN</td>\n",
       "    </tr>\n",
       "  </tbody>\n",
       "</table>\n",
       "</div>"
      ],
      "text/plain": [
       "  food_name  date_added date_modified online_sales? total_sales?  approved  \\\n",
       "0      dill  02/01/1900    16/04/2017           139         1482       1.0   \n",
       "1  doughnut  02/01/2018    16/02/2018           895         4828       1.0   \n",
       "2      yolk  02/01/2018    02/09/2019           226         1890       1.0   \n",
       "3    mutton  04/01/2018    11/11/2019          1861         2850       1.0   \n",
       "4      tuna  08/01/2018    04/11/2019          4221          907       1.0   \n",
       "\n",
       "  heading row  \n",
       "0         NaN  \n",
       "1         NaN  \n",
       "2         NaN  \n",
       "3         NaN  \n",
       "4         NaN  "
      ]
     },
     "execution_count": 53,
     "metadata": {},
     "output_type": "execute_result"
    }
   ],
   "source": [
    "# change the order of the columns\n",
    "df = df[['food_name', 'date_added', 'date_modified', 'online_sales?', 'total_sales?', 'approved', 'heading row']]\n",
    "df.head()"
   ]
  },
  {
   "cell_type": "code",
   "execution_count": null,
   "metadata": {},
   "outputs": [
    {
     "data": {
      "text/html": [
       "<div>\n",
       "<style scoped>\n",
       "    .dataframe tbody tr th:only-of-type {\n",
       "        vertical-align: middle;\n",
       "    }\n",
       "\n",
       "    .dataframe tbody tr th {\n",
       "        vertical-align: top;\n",
       "    }\n",
       "\n",
       "    .dataframe thead th {\n",
       "        text-align: right;\n",
       "    }\n",
       "</style>\n",
       "<table border=\"1\" class=\"dataframe\">\n",
       "  <thead>\n",
       "    <tr style=\"text-align: right;\">\n",
       "      <th></th>\n",
       "      <th>food_name</th>\n",
       "      <th>date_added</th>\n",
       "      <th>date_modified</th>\n",
       "      <th>online_sales?</th>\n",
       "      <th>total_sales?</th>\n",
       "      <th>approved</th>\n",
       "      <th>errors</th>\n",
       "    </tr>\n",
       "  </thead>\n",
       "  <tbody>\n",
       "    <tr>\n",
       "      <th>0</th>\n",
       "      <td>dill</td>\n",
       "      <td>02/01/1900</td>\n",
       "      <td>16/04/2017</td>\n",
       "      <td>139</td>\n",
       "      <td>1482</td>\n",
       "      <td>1.0</td>\n",
       "      <td>NaN</td>\n",
       "    </tr>\n",
       "    <tr>\n",
       "      <th>1</th>\n",
       "      <td>doughnut</td>\n",
       "      <td>02/01/2018</td>\n",
       "      <td>16/02/2018</td>\n",
       "      <td>895</td>\n",
       "      <td>4828</td>\n",
       "      <td>1.0</td>\n",
       "      <td>NaN</td>\n",
       "    </tr>\n",
       "    <tr>\n",
       "      <th>2</th>\n",
       "      <td>yolk</td>\n",
       "      <td>02/01/2018</td>\n",
       "      <td>02/09/2019</td>\n",
       "      <td>226</td>\n",
       "      <td>1890</td>\n",
       "      <td>1.0</td>\n",
       "      <td>NaN</td>\n",
       "    </tr>\n",
       "    <tr>\n",
       "      <th>3</th>\n",
       "      <td>mutton</td>\n",
       "      <td>04/01/2018</td>\n",
       "      <td>11/11/2019</td>\n",
       "      <td>1861</td>\n",
       "      <td>2850</td>\n",
       "      <td>1.0</td>\n",
       "      <td>NaN</td>\n",
       "    </tr>\n",
       "    <tr>\n",
       "      <th>4</th>\n",
       "      <td>tuna</td>\n",
       "      <td>08/01/2018</td>\n",
       "      <td>04/11/2019</td>\n",
       "      <td>4221</td>\n",
       "      <td>907</td>\n",
       "      <td>1.0</td>\n",
       "      <td>NaN</td>\n",
       "    </tr>\n",
       "  </tbody>\n",
       "</table>\n",
       "</div>"
      ],
      "text/plain": [
       "  food_name  date_added date_modified online_sales? total_sales?  approved  \\\n",
       "0      dill  02/01/1900    16/04/2017           139         1482       1.0   \n",
       "1  doughnut  02/01/2018    16/02/2018           895         4828       1.0   \n",
       "2      yolk  02/01/2018    02/09/2019           226         1890       1.0   \n",
       "3    mutton  04/01/2018    11/11/2019          1861         2850       1.0   \n",
       "4      tuna  08/01/2018    04/11/2019          4221          907       1.0   \n",
       "\n",
       "  errors  \n",
       "0    NaN  \n",
       "1    NaN  \n",
       "2    NaN  \n",
       "3    NaN  \n",
       "4    NaN  "
      ]
     },
     "execution_count": 54,
     "metadata": {},
     "output_type": "execute_result"
    }
   ],
   "source": [
    "# rename the heading row to 'errors'\n",
    "df = df.rename(columns={'heading row': 'errors'})\n",
    "df.head()\n"
   ]
  },
  {
   "cell_type": "code",
   "execution_count": null,
   "metadata": {},
   "outputs": [],
   "source": [
    "# for food_name 'dill' add text to column errors\n",
    "df.loc[df['food_name'] == 'dill', 'errors'] = 'date added is incorrect'"
   ]
  },
  {
   "cell_type": "code",
   "execution_count": null,
   "metadata": {},
   "outputs": [],
   "source": [
    "# for food_name 'whipped cream' add text to column errors\n",
    "df.loc[df['food_name'] == 'whipped cream', 'errors'] = 'date added is incorrect'"
   ]
  },
  {
   "cell_type": "code",
   "execution_count": null,
   "metadata": {},
   "outputs": [],
   "source": [
    "# for food_name 'spinach' add text to column errors\n",
    "df.loc[df['food_name'] == 'spinach', 'errors'] = 'sales data looks incorrect'"
   ]
  },
  {
   "cell_type": "code",
   "execution_count": null,
   "metadata": {},
   "outputs": [],
   "source": [
    "# banana = date modified comes before date added\n",
    "df.loc[df['food_name'] == 'banana', 'errors'] = 'date modified comes before date added'"
   ]
  },
  {
   "cell_type": "code",
   "execution_count": null,
   "metadata": {},
   "outputs": [],
   "source": [
    "# danish pastry = has capitol D\n",
    "df.loc[df['food_name'] == 'Danish pastry', 'errors'] = 'has a capitol letter'"
   ]
  },
  {
   "cell_type": "code",
   "execution_count": null,
   "metadata": {},
   "outputs": [],
   "source": [
    "#Edam chease = capitol E\n",
    "df.loc[df['food_name'] == 'Edam cheese', 'errors'] = 'has a capitol letter'\n"
   ]
  },
  {
   "cell_type": "code",
   "execution_count": null,
   "metadata": {},
   "outputs": [],
   "source": [
    "# fruit = non-specific item (sales are low so it doesnt cover the fruit catefory)\n",
    "df.loc[df['food_name'] == 'fruit', 'errors'] = 'non-specific item'"
   ]
  },
  {
   "cell_type": "code",
   "execution_count": null,
   "metadata": {},
   "outputs": [],
   "source": [
    "# Jordan almonds = capitol letter \n",
    "df.loc[df['food_name'] == 'Jordan almonds', 'errors'] = 'capitol letter'"
   ]
  },
  {
   "cell_type": "code",
   "execution_count": null,
   "metadata": {},
   "outputs": [],
   "source": [
    "# meatball = date added was in the wrong format\n",
    "df.loc[df['food_name'] == 'meatball', 'errors'] = 'date added was in the wrong format'"
   ]
  },
  {
   "cell_type": "code",
   "execution_count": null,
   "metadata": {},
   "outputs": [],
   "source": [
    "# mozzerella = date modified comes before date added\n",
    "df.loc[df['food_name'] == 'mozzarella', 'errors'] = 'date modified comes before date added'"
   ]
  },
  {
   "cell_type": "code",
   "execution_count": null,
   "metadata": {},
   "outputs": [],
   "source": [
    "# rice = no sales data or approval data\n",
    "df.loc[df['food_name'] == 'rice', 'errors'] = 'no sales data or approval data'"
   ]
  },
  {
   "cell_type": "code",
   "execution_count": null,
   "metadata": {},
   "outputs": [],
   "source": [
    "# popcorn = sales value is a float\n",
    "df.loc[df['food_name'] == 'popcorn', 'errors'] = 'sales value is a float'"
   ]
  },
  {
   "cell_type": "code",
   "execution_count": null,
   "metadata": {},
   "outputs": [],
   "source": [
    "# swiss chard = capitol letter\n",
    "df.loc[df['food_name'] == 'Swiss chard', 'errors'] = 'capitol letter'"
   ]
  },
  {
   "cell_type": "code",
   "execution_count": null,
   "metadata": {},
   "outputs": [],
   "source": [
    "# test = not a food \n",
    "df.loc[df['food_name'] == 'test', 'errors'] = 'not a food'"
   ]
  },
  {
   "cell_type": "code",
   "execution_count": null,
   "metadata": {},
   "outputs": [],
   "source": [
    "# rewrite csv file with the new data\n",
    "df.to_csv('practical_edit.csv', index=False)"
   ]
  },
  {
   "cell_type": "code",
   "execution_count": 92,
   "metadata": {},
   "outputs": [],
   "source": [
    "# count the number of rows where total_sales? is less than online_sales?\n",
    "df.loc[df['total_sales?'] < df['online_sales?']].count()\n",
    "# swap the data in the total_sales? and online_sales? columns where total sales is less than online sales \n",
    "df.loc[df['total_sales?'] < df['online_sales?'], ['total_sales?', 'online_sales?']] = df.loc[df['total_sales?'] < df['online_sales?'], ['online_sales?', 'total_sales?']].values\n"
   ]
  },
  {
   "cell_type": "code",
   "execution_count": 93,
   "metadata": {},
   "outputs": [
    {
     "data": {
      "text/plain": [
       "food_name        0\n",
       "date_added       0\n",
       "date_modified    0\n",
       "online_sales?    0\n",
       "total_sales?     0\n",
       "approved         0\n",
       "errors           0\n",
       "dtype: int64"
      ]
     },
     "execution_count": 93,
     "metadata": {},
     "output_type": "execute_result"
    }
   ],
   "source": [
    "# test to see if it worked\n",
    "# count the number of rows where total_sales? is less than online_sales?\n",
    "df.loc[df['total_sales?'] < df['online_sales?']].count()"
   ]
  },
  {
   "cell_type": "code",
   "execution_count": 94,
   "metadata": {},
   "outputs": [
    {
     "data": {
      "text/plain": [
       "food_name        402\n",
       "date_added       402\n",
       "date_modified    402\n",
       "online_sales?    403\n",
       "total_sales?     403\n",
       "approved         403\n",
       "errors            21\n",
       "dtype: int64"
      ]
     },
     "execution_count": 94,
     "metadata": {},
     "output_type": "execute_result"
    }
   ],
   "source": [
    "# count the number of rows where total_sales? is greater than online_sales?\n",
    "df.loc[df['total_sales?'] > df['online_sales?']].count()"
   ]
  },
  {
   "cell_type": "code",
   "execution_count": 95,
   "metadata": {},
   "outputs": [
    {
     "data": {
      "text/plain": [
       "food_name        403\n",
       "date_added       403\n",
       "date_modified    403\n",
       "online_sales?    404\n",
       "total_sales?     404\n",
       "approved         403\n",
       "errors            22\n",
       "dtype: int64"
      ]
     },
     "execution_count": 95,
     "metadata": {},
     "output_type": "execute_result"
    }
   ],
   "source": [
    "# count the total number of rows in the dataframe\n",
    "df.count()"
   ]
  },
  {
   "cell_type": "markdown",
   "metadata": {},
   "source": [
    "There is data in the total sales column that is less than the online sales column which suggest this data is in the wrong column and should be swapped with the other column. \n"
   ]
  },
  {
   "cell_type": "code",
   "execution_count": 96,
   "metadata": {},
   "outputs": [
    {
     "data": {
      "text/plain": [
       "food_name          1\n",
       "date_added         1\n",
       "date_modified      1\n",
       "online_sales?      0\n",
       "total_sales?       0\n",
       "approved           1\n",
       "errors           382\n",
       "dtype: int64"
      ]
     },
     "execution_count": 96,
     "metadata": {},
     "output_type": "execute_result"
    }
   ],
   "source": [
    "# check for null values\n",
    "df.isnull().sum()\n",
    "\n"
   ]
  },
  {
   "cell_type": "code",
   "execution_count": 97,
   "metadata": {},
   "outputs": [
    {
     "data": {
      "text/html": [
       "<div>\n",
       "<style scoped>\n",
       "    .dataframe tbody tr th:only-of-type {\n",
       "        vertical-align: middle;\n",
       "    }\n",
       "\n",
       "    .dataframe tbody tr th {\n",
       "        vertical-align: top;\n",
       "    }\n",
       "\n",
       "    .dataframe thead th {\n",
       "        text-align: right;\n",
       "    }\n",
       "</style>\n",
       "<table border=\"1\" class=\"dataframe\">\n",
       "  <thead>\n",
       "    <tr style=\"text-align: right;\">\n",
       "      <th></th>\n",
       "      <th>food_name</th>\n",
       "      <th>date_added</th>\n",
       "      <th>date_modified</th>\n",
       "      <th>online_sales?</th>\n",
       "      <th>total_sales?</th>\n",
       "      <th>approved</th>\n",
       "      <th>errors</th>\n",
       "    </tr>\n",
       "  </thead>\n",
       "  <tbody>\n",
       "    <tr>\n",
       "      <th>0</th>\n",
       "      <td>dill</td>\n",
       "      <td>02/01/1900</td>\n",
       "      <td>16/04/2017</td>\n",
       "      <td>139.0</td>\n",
       "      <td>1482.0</td>\n",
       "      <td>1.0</td>\n",
       "      <td>date added is incorrect</td>\n",
       "    </tr>\n",
       "    <tr>\n",
       "      <th>1</th>\n",
       "      <td>doughnut</td>\n",
       "      <td>02/01/2018</td>\n",
       "      <td>16/02/2018</td>\n",
       "      <td>895.0</td>\n",
       "      <td>4828.0</td>\n",
       "      <td>1.0</td>\n",
       "      <td>NaN</td>\n",
       "    </tr>\n",
       "    <tr>\n",
       "      <th>2</th>\n",
       "      <td>yolk</td>\n",
       "      <td>02/01/2018</td>\n",
       "      <td>02/09/2019</td>\n",
       "      <td>226.0</td>\n",
       "      <td>1890.0</td>\n",
       "      <td>1.0</td>\n",
       "      <td>NaN</td>\n",
       "    </tr>\n",
       "    <tr>\n",
       "      <th>3</th>\n",
       "      <td>mutton</td>\n",
       "      <td>04/01/2018</td>\n",
       "      <td>11/11/2019</td>\n",
       "      <td>1861.0</td>\n",
       "      <td>2850.0</td>\n",
       "      <td>1.0</td>\n",
       "      <td>NaN</td>\n",
       "    </tr>\n",
       "    <tr>\n",
       "      <th>4</th>\n",
       "      <td>tuna</td>\n",
       "      <td>08/01/2018</td>\n",
       "      <td>04/11/2019</td>\n",
       "      <td>907.0</td>\n",
       "      <td>4221.0</td>\n",
       "      <td>1.0</td>\n",
       "      <td>NaN</td>\n",
       "    </tr>\n",
       "    <tr>\n",
       "      <th>...</th>\n",
       "      <td>...</td>\n",
       "      <td>...</td>\n",
       "      <td>...</td>\n",
       "      <td>...</td>\n",
       "      <td>...</td>\n",
       "      <td>...</td>\n",
       "      <td>...</td>\n",
       "    </tr>\n",
       "    <tr>\n",
       "      <th>399</th>\n",
       "      <td>green tea</td>\n",
       "      <td>30/12/2019</td>\n",
       "      <td>31/12/2019</td>\n",
       "      <td>49.0</td>\n",
       "      <td>4026.0</td>\n",
       "      <td>1.0</td>\n",
       "      <td>NaN</td>\n",
       "    </tr>\n",
       "    <tr>\n",
       "      <th>400</th>\n",
       "      <td>brownie</td>\n",
       "      <td>31/12/2019</td>\n",
       "      <td>31/12/2019</td>\n",
       "      <td>1649.0</td>\n",
       "      <td>3655.0</td>\n",
       "      <td>1.0</td>\n",
       "      <td>NaN</td>\n",
       "    </tr>\n",
       "    <tr>\n",
       "      <th>401</th>\n",
       "      <td>bagel</td>\n",
       "      <td>01/01/2020</td>\n",
       "      <td>01/01/2020</td>\n",
       "      <td>1075.0</td>\n",
       "      <td>1801.0</td>\n",
       "      <td>1.0</td>\n",
       "      <td>NaN</td>\n",
       "    </tr>\n",
       "    <tr>\n",
       "      <th>402</th>\n",
       "      <td>whipped cream</td>\n",
       "      <td>35/01/2018</td>\n",
       "      <td>17/09/2018</td>\n",
       "      <td>2472.0</td>\n",
       "      <td>2901.0</td>\n",
       "      <td>1.0</td>\n",
       "      <td>date added is incorrect</td>\n",
       "    </tr>\n",
       "    <tr>\n",
       "      <th>403</th>\n",
       "      <td>syrup</td>\n",
       "      <td>NaN</td>\n",
       "      <td>04/09/2019</td>\n",
       "      <td>808.0</td>\n",
       "      <td>2502.0</td>\n",
       "      <td>1.0</td>\n",
       "      <td>missing date added</td>\n",
       "    </tr>\n",
       "  </tbody>\n",
       "</table>\n",
       "<p>404 rows × 7 columns</p>\n",
       "</div>"
      ],
      "text/plain": [
       "         food_name  date_added date_modified  online_sales?  total_sales?  \\\n",
       "0             dill  02/01/1900    16/04/2017          139.0        1482.0   \n",
       "1         doughnut  02/01/2018    16/02/2018          895.0        4828.0   \n",
       "2             yolk  02/01/2018    02/09/2019          226.0        1890.0   \n",
       "3           mutton  04/01/2018    11/11/2019         1861.0        2850.0   \n",
       "4             tuna  08/01/2018    04/11/2019          907.0        4221.0   \n",
       "..             ...         ...           ...            ...           ...   \n",
       "399      green tea  30/12/2019    31/12/2019           49.0        4026.0   \n",
       "400        brownie  31/12/2019    31/12/2019         1649.0        3655.0   \n",
       "401          bagel  01/01/2020    01/01/2020         1075.0        1801.0   \n",
       "402  whipped cream  35/01/2018    17/09/2018         2472.0        2901.0   \n",
       "403          syrup         NaN    04/09/2019          808.0        2502.0   \n",
       "\n",
       "     approved                   errors  \n",
       "0         1.0  date added is incorrect  \n",
       "1         1.0                      NaN  \n",
       "2         1.0                      NaN  \n",
       "3         1.0                      NaN  \n",
       "4         1.0                      NaN  \n",
       "..        ...                      ...  \n",
       "399       1.0                      NaN  \n",
       "400       1.0                      NaN  \n",
       "401       1.0                      NaN  \n",
       "402       1.0  date added is incorrect  \n",
       "403       1.0       missing date added  \n",
       "\n",
       "[404 rows x 7 columns]"
      ]
     },
     "execution_count": 97,
     "metadata": {},
     "output_type": "execute_result"
    }
   ],
   "source": [
    "df"
   ]
  },
  {
   "cell_type": "code",
   "execution_count": 98,
   "metadata": {},
   "outputs": [],
   "source": [
    "# rewrite csv file with the new data\n",
    "df.to_csv('practical_new.csv', index=False)"
   ]
  },
  {
   "cell_type": "code",
   "execution_count": 99,
   "metadata": {},
   "outputs": [
    {
     "data": {
      "text/plain": [
       "food_name         object\n",
       "date_added        object\n",
       "date_modified     object\n",
       "online_sales?    float64\n",
       "total_sales?     float64\n",
       "approved         float64\n",
       "errors            object\n",
       "dtype: object"
      ]
     },
     "execution_count": 99,
     "metadata": {},
     "output_type": "execute_result"
    }
   ],
   "source": [
    "# check the data types of the columns\n",
    "df.dtypes"
   ]
  }
 ],
 "metadata": {
  "kernelspec": {
   "display_name": "Python 3.10.7 64-bit",
   "language": "python",
   "name": "python3"
  },
  "language_info": {
   "codemirror_mode": {
    "name": "ipython",
    "version": 3
   },
   "file_extension": ".py",
   "mimetype": "text/x-python",
   "name": "python",
   "nbconvert_exporter": "python",
   "pygments_lexer": "ipython3",
   "version": "3.10.7"
  },
  "orig_nbformat": 4,
  "vscode": {
   "interpreter": {
    "hash": "aee8b7b246df8f9039afb4144a1f6fd8d2ca17a180786b69acc140d282b71a49"
   }
  }
 },
 "nbformat": 4,
 "nbformat_minor": 2
}
