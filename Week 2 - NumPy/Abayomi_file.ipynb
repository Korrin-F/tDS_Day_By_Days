{
  "cells": [
    {
      "cell_type": "code",
      "execution_count": 2,
      "metadata": {
        "id": "ulVCPNt71XW9"
      },
      "outputs": [],
      "source": [
        "import numpy as np"
      ]
    },
    {
      "cell_type": "code",
      "execution_count": null,
      "metadata": {
        "id": "EG-1JpLG1XW-",
        "outputId": "e727ad2c-bb73-4f2d-d353-65d9d43f3b28"
      },
      "outputs": [
        {
          "name": "stdout",
          "output_type": "stream",
          "text": [
            "42\n"
          ]
        }
      ],
      "source": [
        "## 0-D Arrays/ Scalar\n",
        "arr = np.array(42)\n",
        "print(arr)"
      ]
    },
    {
      "cell_type": "code",
      "execution_count": null,
      "metadata": {
        "id": "KPcHEALV1XW_",
        "outputId": "27f6a98a-1b51-439c-edd5-7a94e5ffdef2"
      },
      "outputs": [
        {
          "name": "stdout",
          "output_type": "stream",
          "text": [
            "[1 2 3]\n"
          ]
        }
      ],
      "source": [
        "## 1-D Arrays\n",
        "my_one_dim = np.array([1,2,3])\n",
        "print(my_one_dim)"
      ]
    },
    {
      "cell_type": "code",
      "execution_count": null,
      "metadata": {
        "id": "SWiOL-Qh1XW_",
        "outputId": "879e2ab4-1253-41ea-d3ea-1c5ea96c8677"
      },
      "outputs": [
        {
          "name": "stdout",
          "output_type": "stream",
          "text": [
            "[[1 2 3]\n",
            " [4 5 6]]\n"
          ]
        }
      ],
      "source": [
        "## 2D Arrays\n",
        "my_two_dim = np.array([[1,2,3], [4, 5, 6]])\n",
        "print(my_two_dim)"
      ]
    },
    {
      "cell_type": "code",
      "execution_count": null,
      "metadata": {
        "id": "TBdRnnDG1XW_",
        "outputId": "78fbd353-92aa-48e9-f523-5da8b8328837"
      },
      "outputs": [
        {
          "name": "stdout",
          "output_type": "stream",
          "text": [
            "[[[1 2 3]\n",
            "  [4 5 6]]\n",
            "\n",
            " [[1 2 3]\n",
            "  [4 5 6]]]\n"
          ]
        }
      ],
      "source": [
        "## 3 D Arrays\n",
        "my_three_dim = np.array([[[1, 2, 3], [4, 5, 6]], [[1, 2, 3], [4, 5, 6]]])\n",
        "print(my_three_dim)"
      ]
    },
    {
      "cell_type": "code",
      "execution_count": null,
      "metadata": {
        "id": "qs1UW_bu1XW_"
      },
      "outputs": [],
      "source": [
        "## initializing a numpy array\n",
        "number_of_rows = 3\n",
        "number_of_columns = 2\n",
        "arrays_of_zero = np.ones((number_of_rows, number_of_columns))"
      ]
    },
    {
      "cell_type": "code",
      "execution_count": null,
      "metadata": {
        "id": "o4JlkMXu1XW_",
        "outputId": "2d9df9e5-17e7-44fa-c312-e3610e2c5e77"
      },
      "outputs": [
        {
          "name": "stdout",
          "output_type": "stream",
          "text": [
            "[[1. 1.]\n",
            " [1. 1.]\n",
            " [1. 1.]]\n"
          ]
        }
      ],
      "source": [
        "print(arrays_of_zero)"
      ]
    },
    {
      "cell_type": "code",
      "execution_count": null,
      "metadata": {
        "id": "ODp85tWt1XXA",
        "outputId": "c411137c-e371-4e10-864c-047dcbee23a9"
      },
      "outputs": [
        {
          "name": "stdout",
          "output_type": "stream",
          "text": [
            "[[36 36]\n",
            " [36 36]\n",
            " [36 36]]\n"
          ]
        }
      ],
      "source": [
        "arrays_of_5s = 6 * np.full((number_of_rows, number_of_columns), 6)\n",
        "print(arrays_of_5s)"
      ]
    },
    {
      "cell_type": "code",
      "execution_count": null,
      "metadata": {
        "id": "N6D19XDV1XXA",
        "outputId": "1462653e-8978-40e0-badc-8ef7de7e360f"
      },
      "outputs": [
        {
          "data": {
            "text/plain": [
              "array([10, 13, 16, 19, 22, 25])"
            ]
          },
          "execution_count": 31,
          "metadata": {},
          "output_type": "execute_result"
        }
      ],
      "source": [
        "#10-25 -- interval 10, 13, 16 ------ 22\n",
        "start = 10\n",
        "end = 28\n",
        "step = 3\n",
        "evenly_step = np.arange(start, end, step)\n",
        "evenly_step"
      ]
    },
    {
      "cell_type": "code",
      "execution_count": null,
      "metadata": {
        "id": "dyk_CDV21XXA",
        "outputId": "876f2444-a3aa-4bab-feb7-a06d3494fff8"
      },
      "outputs": [
        {
          "data": {
            "text/plain": [
              "array([[1., 0., 0., 0.],\n",
              "       [0., 1., 0., 0.],\n",
              "       [0., 0., 1., 0.],\n",
              "       [0., 0., 0., 1.]])"
            ]
          },
          "execution_count": 18,
          "metadata": {},
          "output_type": "execute_result"
        }
      ],
      "source": [
        "identity_matrix = np.eye(4)\n",
        "identity_matrix"
      ]
    },
    {
      "cell_type": "code",
      "execution_count": null,
      "metadata": {
        "id": "6KlIQMkj1XXA",
        "outputId": "e87035ef-8f1a-47d1-8a49-9ffcedd35386"
      },
      "outputs": [
        {
          "name": "stdout",
          "output_type": "stream",
          "text": [
            "[[0.7838877  0.03144343 0.99635002]\n",
            " [0.34493054 0.4821017  0.88504203]]\n"
          ]
        }
      ],
      "source": [
        "random01 = np.random.random((2,3))\n",
        "print(random01)"
      ]
    },
    {
      "cell_type": "code",
      "execution_count": null,
      "metadata": {
        "id": "cQBKb9im1XXB",
        "outputId": "a095fa3d-1e35-43dd-ba82-3c0c41a0993c"
      },
      "outputs": [
        {
          "name": "stdout",
          "output_type": "stream",
          "text": [
            "[[5 0 9]\n",
            " [7 4 4]]\n"
          ]
        }
      ],
      "source": [
        "randomintrange = np.random.randint(0, 10, (2,3))\n",
        "print(randomintrange)"
      ]
    },
    {
      "cell_type": "code",
      "execution_count": null,
      "metadata": {
        "id": "hGUXol_I1XXB"
      },
      "outputs": [],
      "source": [
        "## numpy array and a python list behaves similarly\n",
        "list = [1,2,3]\n",
        "arr = np.array([1,2,3])"
      ]
    },
    {
      "cell_type": "code",
      "execution_count": null,
      "metadata": {
        "id": "4XpnWPev1XXB",
        "outputId": "32d49a09-13ef-4b8b-f9e1-7643796f495c"
      },
      "outputs": [
        {
          "data": {
            "text/plain": [
              "dtype('int32')"
            ]
          },
          "execution_count": 36,
          "metadata": {},
          "output_type": "execute_result"
        }
      ],
      "source": [
        "a = np.array([[5,6,3], [2,5,1]])\n",
        "a.ndim ## dimension\n",
        "a.shape ##shape\n",
        "a.size ##size\n",
        "a.dtype ##data type"
      ]
    },
    {
      "cell_type": "code",
      "execution_count": 4,
      "metadata": {
        "id": "Zrt7t09Q1XXB"
      },
      "outputs": [],
      "source": [
        "## array\n",
        "arr1 = np.array([0,2,4,5,3,7,8,9,5,1])\n",
        "## odd numbers are numbers that when that gives a remainder when divided\n",
        "arr1[arr1 % 2 ==1] = -1*arr1[arr1 % 2 ==1]"
      ]
    },
    {
      "cell_type": "code",
      "execution_count": 5,
      "metadata": {
        "id": "CfcqXKvu1XXB",
        "outputId": "5304a162-9e55-46a3-a9a0-59e2815d4ee3"
      },
      "outputs": [
        {
          "name": "stdout",
          "output_type": "stream",
          "text": [
            "[ 0  2  4 -5 -3 -7  8 -9 -5 -1]\n"
          ]
        }
      ],
      "source": [
        "print(arr1)"
      ]
    },
    {
      "cell_type": "code",
      "execution_count": null,
      "metadata": {
        "id": "ld7LhSHz1XXC"
      },
      "outputs": [],
      "source": [
        "## numpy array arithmetics\n",
        "a = np.array([[1,2,5], [7,1,3]])\n",
        "b = np.array([[4,6,9], [2,5,1]])"
      ]
    },
    {
      "cell_type": "code",
      "execution_count": null,
      "metadata": {
        "id": "Qbly8Jwg1XXC",
        "outputId": "1a46b81f-59b8-4d25-da60-aa4156b70bad"
      },
      "outputs": [
        {
          "name": "stdout",
          "output_type": "stream",
          "text": [
            "[[ 5  8 14]\n",
            " [ 9  6  4]]\n"
          ]
        }
      ],
      "source": [
        "add1= a + b \n",
        "print(add1)"
      ]
    },
    {
      "cell_type": "code",
      "execution_count": null,
      "metadata": {
        "id": "fIVojpJQ1XXC",
        "outputId": "c39bb368-a5ec-4778-8edd-b69b43c78b9d"
      },
      "outputs": [
        {
          "name": "stdout",
          "output_type": "stream",
          "text": [
            "[[ 5  8 14]\n",
            " [ 9  6  4]]\n"
          ]
        }
      ],
      "source": [
        "add2 = np.add(a,b)\n",
        "print(add2)"
      ]
    },
    {
      "cell_type": "code",
      "execution_count": null,
      "metadata": {
        "id": "4V7ZdkMt1XXC",
        "outputId": "a9c9c274-de12-4606-d148-809a72959bb6"
      },
      "outputs": [
        {
          "name": "stdout",
          "output_type": "stream",
          "text": [
            "[[-3 -4 -4]\n",
            " [ 5 -4  2]]\n"
          ]
        }
      ],
      "source": [
        "## subtraction of array\n",
        "sub1 = a - b\n",
        "print(sub1)"
      ]
    },
    {
      "cell_type": "code",
      "execution_count": null,
      "metadata": {
        "id": "YNLYon5N1XXC",
        "outputId": "5b6673e0-358d-4398-df37-1b4cccd84f75"
      },
      "outputs": [
        {
          "name": "stdout",
          "output_type": "stream",
          "text": [
            "[[-3 -4 -4]\n",
            " [ 5 -4  2]]\n"
          ]
        }
      ],
      "source": [
        "sub2 = np.subtract(a,b)\n",
        "print(sub2)"
      ]
    },
    {
      "cell_type": "code",
      "execution_count": null,
      "metadata": {
        "id": "gA_rOFqA1XXD",
        "outputId": "421e6740-ce5d-4d3b-f282-1fedd06975ba"
      },
      "outputs": [
        {
          "name": "stdout",
          "output_type": "stream",
          "text": [
            "[[ 4 12 45]\n",
            " [14  5  3]]\n"
          ]
        }
      ],
      "source": [
        "## multiply\n",
        "mul1 = a * b \n",
        "print(mul1)"
      ]
    },
    {
      "cell_type": "code",
      "execution_count": null,
      "metadata": {
        "id": "yK2z_adZ1XXD",
        "outputId": "c98acbdd-7411-497c-9962-b260e059a43a"
      },
      "outputs": [
        {
          "name": "stdout",
          "output_type": "stream",
          "text": [
            "[[ 4 12 45]\n",
            " [14  5  3]]\n"
          ]
        }
      ],
      "source": [
        "mul2 = np.multiply(a,b)\n",
        "print(mul2)"
      ]
    },
    {
      "cell_type": "code",
      "execution_count": null,
      "metadata": {
        "id": "bZsYXrlb1XXD",
        "outputId": "5f43c007-ceee-4088-d362-083c5dbed014"
      },
      "outputs": [
        {
          "name": "stdout",
          "output_type": "stream",
          "text": [
            "[[0.25       0.33333333 0.55555556]\n",
            " [3.5        0.2        3.        ]]\n"
          ]
        }
      ],
      "source": [
        "## division\n",
        "div1 = a / b\n",
        "print(div1)"
      ]
    },
    {
      "cell_type": "code",
      "execution_count": null,
      "metadata": {
        "id": "fHH5ggAK1XXD",
        "outputId": "d740700d-de2b-487f-b45a-45606e2735a1"
      },
      "outputs": [
        {
          "name": "stdout",
          "output_type": "stream",
          "text": [
            "[[0.25       0.33333333 0.55555556]\n",
            " [3.5        0.2        3.        ]]\n"
          ]
        }
      ],
      "source": [
        "div2 = np.divide(a,b)\n",
        "print(div2)"
      ]
    },
    {
      "cell_type": "code",
      "execution_count": null,
      "metadata": {
        "id": "u4VXeodP1XXD"
      },
      "outputs": [],
      "source": [
        "##exponential\n",
        "##square root\n",
        "## sin \n",
        "## cos\n",
        "##log\n"
      ]
    },
    {
      "cell_type": "code",
      "execution_count": null,
      "metadata": {
        "id": "99RqpjLv1XXD",
        "outputId": "aa53e588-b8c8-4f8f-ca76-7bea7f4a6c63"
      },
      "outputs": [
        {
          "name": "stdout",
          "output_type": "stream",
          "text": [
            "7\n"
          ]
        }
      ],
      "source": [
        "maxi = a.max()\n",
        "print(maxi)"
      ]
    },
    {
      "cell_type": "code",
      "execution_count": null,
      "metadata": {
        "id": "FgJ6_cDC1XXD",
        "outputId": "8d8c9fd4-fe04-4099-ee10-40e98a4b19c0"
      },
      "outputs": [
        {
          "name": "stdout",
          "output_type": "stream",
          "text": [
            "1\n"
          ]
        }
      ],
      "source": [
        "minimum = a.min()\n",
        "print(minimum)"
      ]
    },
    {
      "cell_type": "code",
      "execution_count": null,
      "metadata": {
        "id": "Qu0eps3w1XXE",
        "outputId": "977adaff-d7f3-4c16-c53e-3b6fba91c5cb"
      },
      "outputs": [
        {
          "name": "stdout",
          "output_type": "stream",
          "text": [
            "2.1921577396609844\n"
          ]
        }
      ],
      "source": [
        "standard_dev = np.std(a)\n",
        "print(standard_dev)"
      ]
    },
    {
      "cell_type": "code",
      "execution_count": null,
      "metadata": {
        "id": "UTZnrPuJ1XXE",
        "outputId": "46028f7a-133b-4e98-e27b-8f7121e65e4b"
      },
      "outputs": [
        {
          "name": "stdout",
          "output_type": "stream",
          "text": [
            "[[1 2 5]\n",
            " [7 1 3]] [[4 6 9]\n",
            " [2 5 1]]\n"
          ]
        }
      ],
      "source": [
        "abc = np.hstack([a,b])\n",
        "print(a,b)"
      ]
    },
    {
      "cell_type": "code",
      "execution_count": null,
      "metadata": {
        "id": "x3_ob0E31XXE"
      },
      "outputs": [],
      "source": []
    }
  ],
  "metadata": {
    "colab": {
      "provenance": []
    },
    "kernelspec": {
      "display_name": "Python 3.10.7 64-bit",
      "language": "python",
      "name": "python3"
    },
    "language_info": {
      "codemirror_mode": {
        "name": "ipython",
        "version": 3
      },
      "file_extension": ".py",
      "mimetype": "text/x-python",
      "name": "python",
      "nbconvert_exporter": "python",
      "pygments_lexer": "ipython3",
      "version": "3.10.7"
    },
    "orig_nbformat": 4,
    "vscode": {
      "interpreter": {
        "hash": "aee8b7b246df8f9039afb4144a1f6fd8d2ca17a180786b69acc140d282b71a49"
      }
    }
  },
  "nbformat": 4,
  "nbformat_minor": 0
}
