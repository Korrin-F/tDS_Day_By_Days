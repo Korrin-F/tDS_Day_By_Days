{
 "cells": [
  {
   "cell_type": "code",
   "execution_count": 2,
   "metadata": {},
   "outputs": [],
   "source": [
    "import numpy as np\n",
    "\n",
    "\n",
    "# diabetes pedigree function\n",
    "# likleyhood of getting diabetes based on family history\n",
    "\n",
    "diabetes_raw_data = np.loadtxt(\"diabetes.csv\", delimiter=\",\", dtype=\"object\")"
   ]
  },
  {
   "cell_type": "code",
   "execution_count": 34,
   "metadata": {},
   "outputs": [],
   "source": [
    "#-----------------------\n",
    "# Separating the data\n",
    "#-----------------------\n",
    "\n",
    "from numpy import int64\n",
    "\n",
    "\n",
    "header = diabetes_raw_data[0,:] # row number, column number. ':' I think means all of them or maybe \"to the end\"\n",
    "#print(header)\n",
    "\n",
    "data = diabetes_raw_data[1:,:8] #Rows = from the second row to the last. Columns = all the columns up to the 4th (0-3)\n",
    "# print(data)\n",
    "\n",
    "pregnancies = diabetes_raw_data[1:,0].astype(int64) \n",
    "\n",
    "outcome = np.vstack(diabetes_raw_data[1:,8].astype(int64)) # Rows = from the second row to the last. Columns = the last colum only.\n",
    "#print(labels)\n",
    "\n"
   ]
  },
  {
   "cell_type": "code",
   "execution_count": 33,
   "metadata": {},
   "outputs": [
    {
     "name": "stdout",
     "output_type": "stream",
     "text": [
      "[0 1]\n",
      "[500 268]\n",
      "There are 268 people in this dataset who have diabetes.\n",
      "There are 500 people in this dataset who do not have diabetes.\n"
     ]
    }
   ],
   "source": [
    "\n",
    "# How many outcomes are there?\n",
    "# 1 = has diabetes\n",
    "# 0 = does not have diabetes \n",
    "categories, samples = np.unique(outcome,  return_counts=True)\n",
    "print(categories)\n",
    "print(samples)\n",
    "\n",
    "diabetes_true = samples[1]\n",
    "diabetes_false = samples[0]\n",
    "\n",
    "print(f\"There are {diabetes_true} people in this dataset who have diabetes.\")\n",
    "print(f\"There are {diabetes_false} people in this dataset who do not have diabetes.\")\n"
   ]
  },
  {
   "cell_type": "code",
   "execution_count": 54,
   "metadata": {},
   "outputs": [
    {
     "name": "stdout",
     "output_type": "stream",
     "text": [
      "The least pregnancies: 0\n",
      "The most pregnancies: 17\n",
      "The average amount of pregnancies: 3.85\n",
      "The standard deviation is: 3.3673836124089958\n",
      "10.584767224817991\n",
      "3.45\n"
     ]
    }
   ],
   "source": [
    "# working with the pregnancies column \n",
    "\n",
    "# sorting the pregnancies from smallest number to the largest number \n",
    "sorted_pregnancies = np.sort(pregnancies)\n",
    "#print(sorted_pregnancies)\n",
    "least_pregnancies = np.min(sorted_pregnancies)\n",
    "most_pregnancies = np.max(sorted_pregnancies)\n",
    "mean_pregnancies = np.mean(sorted_pregnancies).round(2)\n",
    "sd_pregnancies = np.std(sorted_pregnancies)\n",
    "sd_higher = (sd_pregnancies * 2) + mean_pregnancies \n",
    "print(f\"The least pregnancies: {least_pregnancies}\")\n",
    "print(f\"The most pregnancies: {most_pregnancies}\")\n",
    "print(f\"The average amount of pregnancies: {mean_pregnancies}\")\n",
    "print(f\"The standard deviation is: {sd_pregnancies}\")\n",
    "#print(sorted_pregnancies)\n",
    "print(sd_higher)\n",
    "\n",
    "\n",
    "sorted_pregnancies = np.delete(sorted_pregnancies, np.where(sorted_pregnancies > sd_higher), axis=None)\n",
    "#print(sorted_pregnancies)\n",
    "\n",
    "new_mean_pregnancies = np.mean(sorted_pregnancies).round(2)\n",
    "print(new_mean_pregnancies)\n",
    "\n"
   ]
  }
 ],
 "metadata": {
  "kernelspec": {
   "display_name": "Python 3.10.7 64-bit",
   "language": "python",
   "name": "python3"
  },
  "language_info": {
   "codemirror_mode": {
    "name": "ipython",
    "version": 3
   },
   "file_extension": ".py",
   "mimetype": "text/x-python",
   "name": "python",
   "nbconvert_exporter": "python",
   "pygments_lexer": "ipython3",
   "version": "3.10.7"
  },
  "orig_nbformat": 4,
  "vscode": {
   "interpreter": {
    "hash": "aee8b7b246df8f9039afb4144a1f6fd8d2ca17a180786b69acc140d282b71a49"
   }
  }
 },
 "nbformat": 4,
 "nbformat_minor": 2
}
