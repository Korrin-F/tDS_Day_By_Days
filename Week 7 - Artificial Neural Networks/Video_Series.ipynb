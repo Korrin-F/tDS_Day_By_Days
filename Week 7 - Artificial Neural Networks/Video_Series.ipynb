{
 "cells": [
  {
   "cell_type": "code",
   "execution_count": null,
   "metadata": {},
   "outputs": [],
   "source": [
    "# Some popular libaries for ANN include\n",
    "# Keras\n",
    "# Tensorflow - designed by Google\n",
    "# PyTorch - designed by Facebook\n",
    "\n",
    "# and....\n",
    "# Theano\n",
    "# Caffe\n",
    "# Caffe2\n",
    "# Deeplearning4j\n",
    "# CNTK\n",
    "# MXNet\n",
    "# Chainer\n",
    "# PaddlePaddle\n",
    "# Torch\n",
    "# Torch7"
   ]
  },
  {
   "cell_type": "markdown",
   "metadata": {},
   "source": [
    "# Neural Networks from Scratch Video Series\n",
    "\n",
    "---\n",
    "Learning how neural networks work is vital if you plan on solving your own problems that have not yet been solved. Otherwise there are many neural network solutions already inplace that companies will use and all you need to do is remember the right code to implement them. <br><br>\n",
    "\n",
    "---\n",
    "Heres is the structure of a basic neural network using raw code. <br><br>\n",
    "You have your **INPUTS**. These could be from your true layer and include whatever data you are tracking like a scensor or they could be outputs from neurons themselves. <br><br>\n",
    "Each input has an associated **WEIGHTS**. These may be known or the program can initialse them and then they can be tweeked and refinded to make the model more accurate through back propogation. <br><br>\n",
    "Then you have a **BIAS** number. If there is only one neuron that all the weights and inputs connect to then there is only one bias number associated with it.<br><br>\n",
    "The formula to then get an output is input * weight for each input weight pair then add up all the pairs, finally add on your bias at the end. <br><br>\n",
    "\n",
    "---\n",
    "To effect the output of the model you can change the weights and the bias. This is how you fine tune the model. "
   ]
  },
  {
   "cell_type": "markdown",
   "metadata": {},
   "source": [
    "### One neuron with 3 inputs\n"
   ]
  },
  {
   "cell_type": "code",
   "execution_count": 1,
   "metadata": {},
   "outputs": [
    {
     "name": "stdout",
     "output_type": "stream",
     "text": [
      "35.7\n"
     ]
    }
   ],
   "source": [
    "# https://www.youtube.com/watch?v=Wo5dMEP_BbI\n",
    "inputs = [1.2,5.1,2.1]\n",
    "weights = [3.1,2.1,8.7] \n",
    "bias = 3\n",
    "\n",
    "output = inputs[0]*weights[0] + inputs[1]*weights[1] + inputs[2]*weights[2] + bias\n",
    "print(output)"
   ]
  },
  {
   "cell_type": "markdown",
   "metadata": {},
   "source": [
    "### One neuron with 4 inputs\n",
    "Have a look at ![](/1_Neuron_4_Inputs.png) 1_Neuron_4 Inputs.png to see what this looks like. "
   ]
  },
  {
   "cell_type": "code",
   "execution_count": 3,
   "metadata": {},
   "outputs": [
    {
     "name": "stdout",
     "output_type": "stream",
     "text": [
      "4.8\n"
     ]
    }
   ],
   "source": [
    "# https://www.youtube.com/watch?v=lGLto9Xd7bU\n",
    "inputs = [1,2,3, 2.5]\n",
    "weights = [0.2,0.8,-0.5, 1.0]\n",
    "bias = 2\n",
    "\n",
    "output = inputs[0]*weights[0] + inputs[1]*weights[1] + inputs[2]*weights[2] + inputs[3]*weights[3] + bias\n",
    "print(output)"
   ]
  },
  {
   "cell_type": "markdown",
   "metadata": {},
   "source": [
    "### Three Neurons with 4 inputs\n",
    "Have a look at ![](/3_Neuron_4_Inputs.png) 3_Neuron_4 Inputs.png to see what this looks like. \n"
   ]
  },
  {
   "cell_type": "code",
   "execution_count": 4,
   "metadata": {},
   "outputs": [
    {
     "name": "stdout",
     "output_type": "stream",
     "text": [
      "[4.8, 1.21, 2.385]\n"
     ]
    }
   ],
   "source": [
    "inputs = [1, 2, 3, 2.5]\n",
    "# each neuron which has a bias value has a set of weights going to it (see image) therefore\n",
    "# we need a weight array for each neuron and remember the amount in each array is equal to \n",
    "# the amount of inputs\n",
    "weights_1 = [0.2, 0.8, -0.5, 1.0] \n",
    "weights_2 = [0.5, -0.91 , 0.26, -0.5]\n",
    "weights_3 = [-0.26, -0.27, 0.17, 0.87]\n",
    "bias_1 = 2\n",
    "bias_2 = 3\n",
    "bias_3 = 0.5\n",
    "# sence there are 3 neurons we need 3 outputs which can be stored in a list.\n",
    "output = [inputs[0]*weights_1[0] + inputs[1]*weights_1[1] + inputs[2]*weights_1[2] + inputs[3]*weights_1[3] + bias_1,\n",
    "          inputs[0]*weights_2[0] + inputs[1]*weights_2[1] + inputs[2]*weights_2[2] + inputs[3]*weights_2[3] + bias_2,\n",
    "          inputs[0]*weights_3[0] + inputs[1]*weights_3[1] + inputs[2]*weights_3[2] + inputs[3]*weights_3[3] + bias_3]\n",
    "print(output)"
   ]
  }
 ],
 "metadata": {
  "kernelspec": {
   "display_name": "Python 3.10.7 64-bit",
   "language": "python",
   "name": "python3"
  },
  "language_info": {
   "codemirror_mode": {
    "name": "ipython",
    "version": 3
   },
   "file_extension": ".py",
   "mimetype": "text/x-python",
   "name": "python",
   "nbconvert_exporter": "python",
   "pygments_lexer": "ipython3",
   "version": "3.10.7"
  },
  "orig_nbformat": 4,
  "vscode": {
   "interpreter": {
    "hash": "aee8b7b246df8f9039afb4144a1f6fd8d2ca17a180786b69acc140d282b71a49"
   }
  }
 },
 "nbformat": 4,
 "nbformat_minor": 2
}
